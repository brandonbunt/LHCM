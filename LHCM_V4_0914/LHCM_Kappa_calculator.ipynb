{
 "cells": [
  {
   "cell_type": "markdown",
   "id": "08f8c150",
   "metadata": {},
   "source": [
    "### LHCM calculator compilation\n",
    "\n",
    "_Made by Daniel Kim_\n",
    "\n",
    "#### Thermal conductivity \n",
    "$$ K = \\frac{-q \\times d}{\\pi \\times r^2 \\times T} $$"
   ]
  },
  {
   "cell_type": "code",
   "execution_count": 43,
   "id": "cecd0dab",
   "metadata": {},
   "outputs": [
    {
     "data": {
      "application/vnd.jupyter.widget-view+json": {
       "model_id": "22f4fe4fda4646f584b8fe73a1268f25",
       "version_major": 2,
       "version_minor": 0
      },
      "text/plain": [
       "Text(value='0.0', description='Radius')"
      ]
     },
     "metadata": {},
     "output_type": "display_data"
    },
    {
     "data": {
      "application/vnd.jupyter.widget-view+json": {
       "model_id": "3a106dbb9cb944879df2fbd0a1371c03",
       "version_major": 2,
       "version_minor": 0
      },
      "text/plain": [
       "Text(value='0.0', description='Power')"
      ]
     },
     "metadata": {},
     "output_type": "display_data"
    },
    {
     "data": {
      "application/vnd.jupyter.widget-view+json": {
       "model_id": "bd334fb16bdb456a991865e3a484f0df",
       "version_major": 2,
       "version_minor": 0
      },
      "text/plain": [
       "Text(value='0.0', description='Temperature')"
      ]
     },
     "metadata": {},
     "output_type": "display_data"
    },
    {
     "data": {
      "application/vnd.jupyter.widget-view+json": {
       "model_id": "26d8b0f2f91a4677a88b2f30fab0df1a",
       "version_major": 2,
       "version_minor": 0
      },
      "text/plain": [
       "Text(value='0.0', description='Distance')"
      ]
     },
     "metadata": {},
     "output_type": "display_data"
    },
    {
     "data": {
      "application/vnd.jupyter.widget-view+json": {
       "model_id": "9b2d99e0223548f5af6990cafbc98d19",
       "version_major": 2,
       "version_minor": 0
      },
      "text/plain": [
       "Output()"
      ]
     },
     "metadata": {},
     "output_type": "display_data"
    }
   ],
   "source": [
    "import ipywidgets as widgets\n",
    "from IPython.display import display, clear_output\n",
    "import numpy as np\n",
    "\n",
    "# Create text input widgets\n",
    "r_widget = widgets.Text(value='0.0', description='Radius')\n",
    "q_widget = widgets.Text(value='0.0', description='Power')\n",
    "T_widget = widgets.Text(value='0.0', description='Temperature')\n",
    "d_widget = widgets.Text(value='0.0', description='Distance')\n",
    "\n",
    "# Create an output widget to display the results\n",
    "output = widgets.Output()\n",
    "\n",
    "# Initialize variables to store input values\n",
    "r = 1.0\n",
    "q = 0.0\n",
    "T = 1.0\n",
    "d = 0.0\n",
    "\n",
    "# Define a function to update the variables and display the results\n",
    "def on_text_change(change):\n",
    "    with output:\n",
    "        clear_output(wait=True)  # Clear the previous output\n",
    "        entered_text = change.new\n",
    "        widget_description = change.owner.description\n",
    "        try:\n",
    "            entered_value = float(entered_text)  # Convert entered text to a float\n",
    "        except ValueError:\n",
    "            print(f'Invalid input for {widget_description}')\n",
    "            return  # Skip further processing on invalid input\n",
    "        \n",
    "        # Update the corresponding variable based on the widget description\n",
    "        if widget_description == 'Radius':\n",
    "            global r\n",
    "            r = entered_value\n",
    "        elif widget_description == 'Power':\n",
    "            global q\n",
    "            q = entered_value\n",
    "        elif widget_description == 'Temperature':\n",
    "            global T\n",
    "            T = entered_value\n",
    "        elif widget_description == 'Distance':\n",
    "            global d\n",
    "            d = entered_value\n",
    "\n",
    "        # Calculate kappa based on the updated variables\n",
    "        kappa = (-q * d) / (np.pi * r**2 * T)\n",
    "        print(f'Kappa = {kappa:.2f}')\n",
    "\n",
    "# Attach the function to the text input widgets' change events\n",
    "r_widget.observe(on_text_change, names='value')\n",
    "q_widget.observe(on_text_change, names='value')\n",
    "T_widget.observe(on_text_change, names='value')\n",
    "d_widget.observe(on_text_change, names='value')\n",
    "\n",
    "# Display the widgets and the output\n",
    "display(r_widget)\n",
    "display(q_widget)\n",
    "display(T_widget)\n",
    "display(d_widget)\n",
    "display(output)"
   ]
  }
 ],
 "metadata": {
  "kernelspec": {
   "display_name": "Python 3 (ipykernel)",
   "language": "python",
   "name": "python3"
  },
  "language_info": {
   "codemirror_mode": {
    "name": "ipython",
    "version": 3
   },
   "file_extension": ".py",
   "mimetype": "text/x-python",
   "name": "python",
   "nbconvert_exporter": "python",
   "pygments_lexer": "ipython3",
   "version": "3.10.9"
  }
 },
 "nbformat": 4,
 "nbformat_minor": 5
}
